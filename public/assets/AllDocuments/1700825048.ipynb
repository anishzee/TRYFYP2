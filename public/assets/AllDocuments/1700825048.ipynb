{
 "cells": [
  {
   "cell_type": "markdown",
   "id": "cd1b199e",
   "metadata": {},
   "source": [
    "# Chapter 3 Basic Visualization Tools (Part 1) : Introduction to Matplotib"
   ]
  },
  {
   "cell_type": "markdown",
   "id": "95c623bd",
   "metadata": {},
   "source": [
    "### 1. Importing Matplotlib (Pyplot)"
   ]
  },
  {
   "cell_type": "code",
   "execution_count": null,
   "id": "0a691051",
   "metadata": {},
   "outputs": [],
   "source": [
    "from matplotlib import pyplot as plt \n",
    "\n",
    "#or import matplotlib.pyplot as plt "
   ]
  },
  {
   "cell_type": "markdown",
   "id": "93aaf9ac",
   "metadata": {},
   "source": [
    "### 2. Data Modification"
   ]
  },
  {
   "cell_type": "code",
   "execution_count": null,
   "id": "b1625ffd",
   "metadata": {},
   "outputs": [],
   "source": [
    "import pandas as pd\n",
    "filepath = 'https://raw.githubusercontent.com/MoH-Malaysia/covid19-public/main/epidemic/deaths_state.csv'\n",
    "df = pd.read_csv(filepath)\n",
    "df.head()"
   ]
  },
  {
   "cell_type": "code",
   "execution_count": null,
   "id": "54e5f214",
   "metadata": {},
   "outputs": [],
   "source": [
    "df['date'] = pd.to_datetime(df['date'])\n",
    "df.set_index('date', inplace = True)\n",
    "data2109 = df.loc['2021-09']\n",
    "data2109"
   ]
  },
  {
   "cell_type": "code",
   "execution_count": null,
   "id": "ebbd9f0a",
   "metadata": {},
   "outputs": [],
   "source": [
    "kedah = data2109.groupby(data2109.state).get_group(\"Kedah\")\n",
    "kedah"
   ]
  },
  {
   "cell_type": "code",
   "execution_count": null,
   "id": "34baffac",
   "metadata": {},
   "outputs": [],
   "source": [
    "#Analysize September 10 days covid death cases in Kedah\n",
    "kedah10 = kedah['2021-09-21':'2021-09-30']\n",
    "kedah10"
   ]
  },
  {
   "cell_type": "markdown",
   "id": "1629ade3",
   "metadata": {},
   "source": [
    "### 3. Creating Subplot"
   ]
  },
  {
   "cell_type": "markdown",
   "id": "9e98f145",
   "metadata": {},
   "source": [
    "#### A. Visualize Subplot"
   ]
  },
  {
   "cell_type": "code",
   "execution_count": null,
   "id": "55d5b278",
   "metadata": {},
   "outputs": [],
   "source": [
    "import numpy as np\n",
    "x = np.arange(1,11)\n",
    "plt.plot(x,kedah10.deaths_new)"
   ]
  },
  {
   "cell_type": "markdown",
   "id": "78d0126b",
   "metadata": {},
   "source": [
    "#### B. Pyplot Parameters"
   ]
  },
  {
   "cell_type": "code",
   "execution_count": null,
   "id": "aa0b5cad",
   "metadata": {},
   "outputs": [],
   "source": [
    "#plotting data\n"
   ]
  },
  {
   "cell_type": "markdown",
   "id": "6f6df2a9",
   "metadata": {},
   "source": [
    "#### C. Subplot\n",
    "To create multiple plots use **matplotlib.pyplot.subplots** method which returns the figure along with Axes object or array of Axes object. nrows, ncols attributes of **subplots()** method determine the number of rows and columns of the subplot grid.\n",
    "\n",
    "The **subplots()** function in pyplot module of matplotlib library is used to create a figure and a set of subplots. Subplots are required when we want to show two or more plots in same figure."
   ]
  },
  {
   "cell_type": "code",
   "execution_count": null,
   "id": "d8d85f02",
   "metadata": {},
   "outputs": [],
   "source": [
    "# Creating 2 subplots using index\n",
    "\n",
    "\n",
    "# Accessing each axes object to plot the data through returned array\n",
    "\n"
   ]
  },
  {
   "cell_type": "code",
   "execution_count": null,
   "id": "f196bf1b",
   "metadata": {},
   "outputs": [],
   "source": [
    "# Creating 2 subplots using variable names\n",
    "\n",
    " \n",
    "# Accessing each axes object to plot the data \n",
    "\n"
   ]
  },
  {
   "cell_type": "code",
   "execution_count": null,
   "id": "6a84fc17",
   "metadata": {},
   "outputs": [],
   "source": [
    "# Creating 4 subplots \n",
    "plt.figure()\n"
   ]
  },
  {
   "cell_type": "code",
   "execution_count": null,
   "id": "ddc41caf",
   "metadata": {},
   "outputs": [],
   "source": [
    "# Creating 6 subplots \n",
    "\n"
   ]
  },
  {
   "cell_type": "markdown",
   "id": "ff61230c",
   "metadata": {},
   "source": [
    "#### 1. Add Title to Subplot\n",
    "The **title()** method in matplotlib module is used to specify title of the visualization depicted and displays the title using various attributes."
   ]
  },
  {
   "cell_type": "code",
   "execution_count": null,
   "id": "625a765c",
   "metadata": {},
   "outputs": [],
   "source": [
    "plt.plot(x,kedah10.deaths_new)\n",
    "\n"
   ]
  },
  {
   "cell_type": "markdown",
   "id": "e16c6854",
   "metadata": {},
   "source": [
    "By default, **subplot()** returns a figure with a single plot. For each axes object i.e plot we can set title (set via **set_title()**), an x-label (set via **set_xlabel()**), and a y-label set via **set_ylabel()**)."
   ]
  },
  {
   "cell_type": "code",
   "execution_count": null,
   "id": "f1e36eca",
   "metadata": {},
   "outputs": [],
   "source": [
    "\n"
   ]
  },
  {
   "cell_type": "markdown",
   "id": "6aca6f00",
   "metadata": {},
   "source": [
    "#### 2. Set A Single Main Title for All Subplots\n",
    "A title in matplotlib library describes the main subject of plotting the graphs. Setting a title for just one plot is easy using the **title()** method. By using this function only the individual title plots can be set but not a single title for all subplots. Hence, to set a single main title for all subplots, **suptitle()** method is used."
   ]
  },
  {
   "cell_type": "code",
   "execution_count": null,
   "id": "149e3c5f",
   "metadata": {},
   "outputs": [],
   "source": [
    "fig, (ax1,ax2) = plt.subplots(1,2,figsize = (12,5))\n",
    "\n",
    "#set label\n",
    "\n",
    "\n",
    "#set main title\n",
    "\n",
    "\n",
    "#plotting\n",
    "\n"
   ]
  },
  {
   "cell_type": "markdown",
   "id": "0cac180b",
   "metadata": {},
   "source": [
    "#### 3. Set Spacing Between Subplots\n",
    "Using function **tight_layout()** and **subplots_adjust()** "
   ]
  },
  {
   "cell_type": "code",
   "execution_count": null,
   "id": "415fd506",
   "metadata": {},
   "outputs": [],
   "source": [
    "#using tight_layout()\n",
    "\n"
   ]
  },
  {
   "cell_type": "code",
   "execution_count": null,
   "id": "aa9da7ea",
   "metadata": {},
   "outputs": [],
   "source": [
    "#using subplots_adjust()\n",
    "\n"
   ]
  },
  {
   "cell_type": "markdown",
   "id": "47418355",
   "metadata": {},
   "source": [
    "#### 4. Set Legend in Subplots\n",
    "A legend is an area describing the elements of the graph. In the matplotlib library, there’s a function called **legend()** which is used to place a legend on the axes.\n",
    "\n",
    "The attribute **loc in legend()** is used to specify the location of the legend.The strings ‘upper left’, ‘upper right’, ‘lower left’, ‘lower right’ place the legend at the corresponding corner of the axes/figure.\n",
    "\n",
    "The attribute bbox_to_anchor=(x, y) of legend() function is used to specify the coordinates of the legend, and the attribute ncol represents the number of columns that the legend has.It’s default value is 1."
   ]
  },
  {
   "cell_type": "markdown",
   "id": "052f9bd1",
   "metadata": {},
   "source": [
    "##### a. legend() method"
   ]
  },
  {
   "cell_type": "code",
   "execution_count": null,
   "id": "e1510645",
   "metadata": {},
   "outputs": [],
   "source": [
    "plt.plot(x,kedah10.deaths_new,color ='b', marker='D')\n",
    "\n",
    "# naming of x-axis and y-axis\n",
    "plt.xlabel('September 2021')\n",
    "plt.ylabel('Total Cases')\n",
    "  \n",
    "# naming the title of the plot\n",
    "plt.title('Covid19 Death Cases')\n",
    "\n",
    "# Function add a legend  \n",
    "plt.legend(['Death New'])"
   ]
  },
  {
   "cell_type": "code",
   "execution_count": null,
   "id": "3efb920e",
   "metadata": {},
   "outputs": [],
   "source": [
    "# Function add multiple legend\n",
    "\n"
   ]
  },
  {
   "cell_type": "markdown",
   "id": "261db0ff",
   "metadata": {},
   "source": [
    "##### b. legend() method with \"loc\""
   ]
  },
  {
   "cell_type": "code",
   "execution_count": null,
   "id": "68c40fcd",
   "metadata": {},
   "outputs": [],
   "source": [
    "#using string\n",
    "\n"
   ]
  },
  {
   "cell_type": "code",
   "execution_count": null,
   "id": "0c664039",
   "metadata": {},
   "outputs": [],
   "source": [
    "#using int position\n",
    "\n"
   ]
  },
  {
   "cell_type": "code",
   "execution_count": null,
   "id": "1f708d73",
   "metadata": {},
   "outputs": [],
   "source": [
    "#using bbox_to_anchor \n",
    "\n"
   ]
  },
  {
   "cell_type": "markdown",
   "id": "e1e9f8e8",
   "metadata": {},
   "source": [
    "##### c. change the legend font size"
   ]
  },
  {
   "cell_type": "code",
   "execution_count": null,
   "id": "b4627fdd",
   "metadata": {},
   "outputs": [],
   "source": [
    "\n"
   ]
  },
  {
   "cell_type": "markdown",
   "id": "85d787bd",
   "metadata": {},
   "source": [
    "##### d. using prop keyword and setting a background color"
   ]
  },
  {
   "cell_type": "code",
   "execution_count": null,
   "id": "403f596a",
   "metadata": {},
   "outputs": [],
   "source": [
    "\n"
   ]
  },
  {
   "cell_type": "markdown",
   "id": "fec24260",
   "metadata": {},
   "source": [
    "##### e. vertical spacing between legend entries"
   ]
  },
  {
   "cell_type": "code",
   "execution_count": null,
   "id": "1960fcaa",
   "metadata": {},
   "outputs": [],
   "source": [
    "\n"
   ]
  },
  {
   "cell_type": "markdown",
   "id": "7d8346a3",
   "metadata": {},
   "source": [
    "##### e. multiple columns legend entries"
   ]
  },
  {
   "cell_type": "code",
   "execution_count": null,
   "id": "ba546ce0",
   "metadata": {},
   "outputs": [],
   "source": [
    "\n"
   ]
  },
  {
   "cell_type": "markdown",
   "id": "0d869d98",
   "metadata": {},
   "source": [
    "##### f. creating legend with color box\n",
    "To create a legend with a color box, **patches** are used provided by the **matplotlib.patches** module. A patch nothing but a 2D artist with face color and edge color. "
   ]
  },
  {
   "cell_type": "code",
   "execution_count": null,
   "id": "f79de645",
   "metadata": {},
   "outputs": [],
   "source": [
    "\n"
   ]
  }
 ],
 "metadata": {
  "kernelspec": {
   "display_name": "Python 3 (ipykernel)",
   "language": "python",
   "name": "python3"
  },
  "language_info": {
   "codemirror_mode": {
    "name": "ipython",
    "version": 3
   },
   "file_extension": ".py",
   "mimetype": "text/x-python",
   "name": "python",
   "nbconvert_exporter": "python",
   "pygments_lexer": "ipython3",
   "version": "3.8.12"
  }
 },
 "nbformat": 4,
 "nbformat_minor": 5
}
