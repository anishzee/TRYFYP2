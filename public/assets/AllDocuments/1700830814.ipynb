{
 "cells": [
  {
   "cell_type": "markdown",
   "id": "12959d63",
   "metadata": {},
   "source": [
    "## <center>COLLEGE OF COMPUTING AND INFORMATICS\n",
    "## <center>CSEB5133 DATA VISUALIZATION PROGRAMMING\n",
    "## <center>SEM 1 2023/2024\n",
    "<center>-----------------------------------------------------------------------------------------------------------------------------------------\n",
    "\n",
    "## <center><span style=\"color:blue\">**LAB 4: MATPLOTLIB BASIC VISUALIZATION TOOLS**</span>"
   ]
  },
  {
   "cell_type": "markdown",
   "id": "411b0efa",
   "metadata": {},
   "source": [
    "## Objectives\n",
    "1. Become familar with the use of the Python packages Matplotlib\n",
    "\n",
    "2. Learn and apply basic visualization tools in library Matplotlib\n",
    "\n",
    "\n",
    "### <span style='background :yellow' > Instruction: </span>\n",
    "1. This is an individual lab exercise.\n",
    "2. You are compulsory to complete ALL QUESTIONS.\n",
    "3. Submit your ipynb file via Brighten. \n",
    "4. Submission deadline: <span style=\"color:red\">**At the end of lab session**</span>\n"
   ]
  },
  {
   "cell_type": "markdown",
   "id": "7921a8a1",
   "metadata": {},
   "source": [
    "### <span style='background :yellow' > Student Information </span>\n",
    "\n",
    "**Name     :**\n",
    "\n",
    "**ID No    :**\n",
    "\n",
    "**Section  :**"
   ]
  },
  {
   "cell_type": "markdown",
   "id": "9229f886",
   "metadata": {},
   "source": [
    "### Data source: Production of Rubber Estates by State, Malaysia\n",
    "Download csv file from: https://archive.data.gov.my/data/en_US/dataset/production-of-rubber-estates-by-state-malaysia"
   ]
  },
  {
   "cell_type": "markdown",
   "id": "9f968231",
   "metadata": {},
   "source": [
    "### <span style='background :pink' > Level: Easy </span>"
   ]
  },
  {
   "cell_type": "markdown",
   "id": "e4066c2f",
   "metadata": {},
   "source": [
    "### Task 1: Importing Libraries and Loading Dataset"
   ]
  },
  {
   "cell_type": "code",
   "execution_count": 1,
   "id": "0557b648",
   "metadata": {},
   "outputs": [],
   "source": []
  },
  {
   "cell_type": "markdown",
   "id": "f2b278de",
   "metadata": {},
   "source": [
    "### Task 2: Data validation"
   ]
  },
  {
   "cell_type": "code",
   "execution_count": 5,
   "id": "ef6a7828",
   "metadata": {},
   "outputs": [],
   "source": []
  },
  {
   "cell_type": "markdown",
   "id": "eeb4fc9a",
   "metadata": {},
   "source": [
    "### <span style='background :pink' > Level: Moderate </span>"
   ]
  },
  {
   "cell_type": "markdown",
   "id": "55a7b028",
   "metadata": {},
   "source": [
    "### Task 3 : Dataset Analysis and Modification\n",
    "Plan and conduct three (3) potential analysis from the DataFrame"
   ]
  },
  {
   "cell_type": "markdown",
   "id": "3469c688",
   "metadata": {},
   "source": [
    "#### Analysis 1 : Describe your analysis\n",
    "Example:\n",
    "From the dataset, the first analysis will be on the rubber production pattern for the state of Johor. This analysis will includes the production data for the last five years."
   ]
  },
  {
   "cell_type": "code",
   "execution_count": null,
   "id": "0abe69b5",
   "metadata": {},
   "outputs": [],
   "source": []
  },
  {
   "cell_type": "markdown",
   "id": "307f7bd5",
   "metadata": {},
   "source": [
    "#### Analysis 2 : Describe your analysis"
   ]
  },
  {
   "cell_type": "code",
   "execution_count": null,
   "id": "ce64c205",
   "metadata": {},
   "outputs": [],
   "source": []
  },
  {
   "cell_type": "markdown",
   "id": "47e3aa16",
   "metadata": {},
   "source": [
    "#### Analysis 3 : Describe your analysis"
   ]
  },
  {
   "cell_type": "code",
   "execution_count": null,
   "id": "9eef4e90",
   "metadata": {},
   "outputs": [],
   "source": []
  },
  {
   "cell_type": "markdown",
   "id": "e6cae94d",
   "metadata": {},
   "source": [
    "### Task 4 : Data Visualization\n",
    "Visualize your analysis in Task 3 using three (3) different type of Matplotlib visualization tools."
   ]
  },
  {
   "cell_type": "markdown",
   "id": "2c60db2f",
   "metadata": {},
   "source": [
    "#### Data Visualization 1 : Describe details of your visualization\n",
    "Example:\n",
    "For the first analysis, a bar graph is utilized to depict the state of Johor's rubber production trend over the last five years. According to the graph,  shows that the rubber production increases/decrease by xx%."
   ]
  },
  {
   "cell_type": "code",
   "execution_count": null,
   "id": "dd4b8bd3",
   "metadata": {},
   "outputs": [],
   "source": []
  },
  {
   "cell_type": "markdown",
   "id": "d2668303",
   "metadata": {},
   "source": [
    "#### Data Visualization 2 : Describe details of your visualization\n",
    "Compare Johor and Pahang rubber production using suitable graph"
   ]
  },
  {
   "cell_type": "code",
   "execution_count": null,
   "id": "1868f6b6",
   "metadata": {},
   "outputs": [],
   "source": []
  },
  {
   "cell_type": "markdown",
   "id": "c4560db0",
   "metadata": {},
   "source": [
    "#### Data Visualization 3 : Describe details of your visualization\n",
    "\n",
    "Plot a graph comparing rubber production in Johor to the total production in Malaysia"
   ]
  },
  {
   "cell_type": "code",
   "execution_count": null,
   "id": "cb251955",
   "metadata": {},
   "outputs": [],
   "source": []
  },
  {
   "cell_type": "markdown",
   "id": "24e24b02",
   "metadata": {},
   "source": [
    "### <center><span style=\"color:blue\">**That's all for today..Have a great day!**</span>"
   ]
  },
  {
   "cell_type": "code",
   "execution_count": null,
   "id": "f81fb8dc",
   "metadata": {},
   "outputs": [],
   "source": []
  }
 ],
 "metadata": {
  "celltoolbar": "Raw Cell Format",
  "kernelspec": {
   "display_name": "Python 3 (ipykernel)",
   "language": "python",
   "name": "python3"
  },
  "language_info": {
   "codemirror_mode": {
    "name": "ipython",
    "version": 3
   },
   "file_extension": ".py",
   "mimetype": "text/x-python",
   "name": "python",
   "nbconvert_exporter": "python",
   "pygments_lexer": "ipython3",
   "version": "3.11.5"
  }
 },
 "nbformat": 4,
 "nbformat_minor": 5
}
